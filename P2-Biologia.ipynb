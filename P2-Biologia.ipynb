{
 "cells": [
  {
   "cell_type": "markdown",
   "id": "985e6f9b",
   "metadata": {},
   "source": [
    "# PRACTICA 2\n",
    "\n",
    "### ¡Con todo lo aprendido con Python, vamos a resolver unos ejercicios de Bioinformática!\n",
    "\n",
    "#### 1.- Concatena las cadenas ATGCC y TCCG"
   ]
  },
  {
   "cell_type": "code",
   "execution_count": 4,
   "id": "c06c7b6f",
   "metadata": {},
   "outputs": [],
   "source": [
    "cadena1 = \"ATGCC\"\n",
    "cadena2 = \"TCCG\""
   ]
  },
  {
   "cell_type": "code",
   "execution_count": 5,
   "id": "b845927c",
   "metadata": {},
   "outputs": [
    {
     "data": {
      "text/plain": [
       "'ATGCCTCCG'"
      ]
     },
     "execution_count": 5,
     "metadata": {},
     "output_type": "execute_result"
    }
   ],
   "source": [
    "cadena3 = cadena1 + cadena2\n",
    "cadena3"
   ]
  },
  {
   "cell_type": "markdown",
   "id": "1f4b7708",
   "metadata": {},
   "source": [
    "#### 2.- ¿Cuál es la longitud de ATGCGAGT?"
   ]
  },
  {
   "cell_type": "code",
   "execution_count": 6,
   "id": "8f78cad8",
   "metadata": {},
   "outputs": [],
   "source": [
    "dna=\"ATGCGAGT\""
   ]
  },
  {
   "cell_type": "code",
   "execution_count": 7,
   "id": "ecce1da6",
   "metadata": {},
   "outputs": [
    {
     "data": {
      "text/plain": [
       "8"
      ]
     },
     "execution_count": 7,
     "metadata": {},
     "output_type": "execute_result"
    }
   ],
   "source": [
    "len(dna)"
   ]
  },
  {
   "cell_type": "markdown",
   "id": "6361c287",
   "metadata": {},
   "source": [
    "#### 3.- Con la cadena mgXDyTw, ponla en mayúsculas, luego en minúsculas. Extrae su longitud y divide la cadena por la letra \"g\""
   ]
  },
  {
   "cell_type": "code",
   "execution_count": 8,
   "id": "b69beca1",
   "metadata": {},
   "outputs": [],
   "source": [
    "cadena=\"mgXDyTw\""
   ]
  },
  {
   "cell_type": "code",
   "execution_count": 9,
   "id": "51591dca",
   "metadata": {},
   "outputs": [
    {
     "data": {
      "text/plain": [
       "'MGXDYTW'"
      ]
     },
     "execution_count": 9,
     "metadata": {},
     "output_type": "execute_result"
    }
   ],
   "source": [
    "CADENA = cadena.upper()\n",
    "CADENA"
   ]
  },
  {
   "cell_type": "code",
   "execution_count": 10,
   "id": "56ad9c18-a4dd-4109-bc4d-91dcb195a875",
   "metadata": {},
   "outputs": [
    {
     "data": {
      "text/plain": [
       "'mgxdytw'"
      ]
     },
     "execution_count": 10,
     "metadata": {},
     "output_type": "execute_result"
    }
   ],
   "source": [
    "cadenaminus = cadena.lower()\n",
    "cadenaminus"
   ]
  },
  {
   "cell_type": "code",
   "execution_count": 11,
   "id": "289181cd-9715-4cb0-9a89-c67054277741",
   "metadata": {},
   "outputs": [
    {
     "data": {
      "text/plain": [
       "7"
      ]
     },
     "execution_count": 11,
     "metadata": {},
     "output_type": "execute_result"
    }
   ],
   "source": [
    "len(cadena)"
   ]
  },
  {
   "cell_type": "code",
   "execution_count": 12,
   "id": "ae93c8ca-d329-419c-b60c-381dbed7954c",
   "metadata": {},
   "outputs": [
    {
     "data": {
      "text/plain": [
       "['m', 'XDyTw']"
      ]
     },
     "execution_count": 12,
     "metadata": {},
     "output_type": "execute_result"
    }
   ],
   "source": [
    "cadena.split('g')"
   ]
  },
  {
   "cell_type": "markdown",
   "id": "91c2ca9d",
   "metadata": {},
   "source": [
    "#### 4.- Con la secuencia de aminoácidos vlspadktnv, reemplaza la valina con la tirosina. Pista: usa replace()"
   ]
  },
  {
   "cell_type": "code",
   "execution_count": 13,
   "id": "a049ecdd",
   "metadata": {},
   "outputs": [],
   "source": [
    "aa = \"vlspadktnv\""
   ]
  },
  {
   "cell_type": "code",
   "execution_count": 14,
   "id": "0c464cc2",
   "metadata": {},
   "outputs": [
    {
     "data": {
      "text/plain": [
       "'ylspadktny'"
      ]
     },
     "execution_count": 14,
     "metadata": {},
     "output_type": "execute_result"
    }
   ],
   "source": [
    "#tirosina es y\n",
    "aa_tirosina = aa.replace('v','y')\n",
    "aa_tirosina"
   ]
  },
  {
   "cell_type": "markdown",
   "id": "97f9ecd6",
   "metadata": {},
   "source": [
    "#### 5.- Cuenta las valinas de la secuencia original anterior."
   ]
  },
  {
   "cell_type": "code",
   "execution_count": 19,
   "id": "b4b5600f",
   "metadata": {},
   "outputs": [
    {
     "data": {
      "text/plain": [
       "2"
      ]
     },
     "execution_count": 19,
     "metadata": {},
     "output_type": "execute_result"
    }
   ],
   "source": [
    "valinas = aa.count('v')\n",
    "valinas"
   ]
  },
  {
   "cell_type": "markdown",
   "id": "6aac8e24",
   "metadata": {},
   "source": [
    "#### 6.- Con el diccionario siguiente imprime el valor de BisI y saca el valor de EcoRI con pop(). ¿Qué pasa con el diccionario?"
   ]
  },
  {
   "cell_type": "code",
   "execution_count": 15,
   "id": "c0c811d7",
   "metadata": {},
   "outputs": [],
   "source": [
    "enzR = {\n",
    "    'EcoRI':r'GAATTC',\n",
    "    'AvaII':r'GG(A|T)CC',\n",
    "    'BisI':r'GC[ATGC]GC'\n",
    "}"
   ]
  },
  {
   "cell_type": "code",
   "execution_count": 16,
   "id": "5dacb009",
   "metadata": {},
   "outputs": [
    {
     "data": {
      "text/plain": [
       "'GC[ATGC]GC'"
      ]
     },
     "execution_count": 16,
     "metadata": {},
     "output_type": "execute_result"
    }
   ],
   "source": [
    "enzR['BisI']"
   ]
  },
  {
   "cell_type": "code",
   "execution_count": 17,
   "id": "29cbcd1b-7b6f-450f-b79e-e791a65eaf78",
   "metadata": {},
   "outputs": [
    {
     "data": {
      "text/plain": [
       "{'AvaII': 'GG(A|T)CC', 'BisI': 'GC[ATGC]GC'}"
      ]
     },
     "execution_count": 17,
     "metadata": {},
     "output_type": "execute_result"
    }
   ],
   "source": [
    "enzR.pop('EcoRI')\n",
    "enzR"
   ]
  },
  {
   "cell_type": "markdown",
   "id": "4646bddd",
   "metadata": {},
   "source": [
    "#### 7.- Con la secuencia y la lista siguiente, escribe un algoritmo que cuente el número de veces que aparece un elemento de la lista en la secuencia. Pista: hacer un diccionario para almacenar los resultados puede ser buena idea"
   ]
  },
  {
   "cell_type": "code",
   "execution_count": 30,
   "id": "0a701a5e",
   "metadata": {},
   "outputs": [],
   "source": [
    "dna = \"AATGATGAACGAC\" \n",
    "dinucleotides = ['AA','AT','AG','AC', \n",
    "                 'TA','TT','TG','TC', \n",
    "                 'GA','GT','GG','GC', \n",
    "                 'CA','CT','CG','CT'] "
   ]
  },
  {
   "cell_type": "code",
   "execution_count": 31,
   "id": "eb4fb811-5678-4e6c-b490-3bac79686737",
   "metadata": {},
   "outputs": [],
   "source": [
    "conteo_dinucleotidos = {}"
   ]
  },
  {
   "cell_type": "code",
   "execution_count": 32,
   "id": "1cbbef6a-c4ec-4ef8-9518-2f7e09e1d30f",
   "metadata": {},
   "outputs": [],
   "source": [
    "for dinucleotido in dinucleotides: \n",
    "    conteo_dinucleotidos[dinucleotido]=dna.count(dinucleotido)"
   ]
  },
  {
   "cell_type": "code",
   "execution_count": 34,
   "id": "69144033-0a3c-4503-8e4a-c9056b882065",
   "metadata": {},
   "outputs": [
    {
     "data": {
      "text/plain": [
       "{'AA': 2,\n",
       " 'AT': 2,\n",
       " 'AG': 0,\n",
       " 'AC': 2,\n",
       " 'TA': 0,\n",
       " 'TT': 0,\n",
       " 'TG': 2,\n",
       " 'TC': 0,\n",
       " 'GA': 3,\n",
       " 'GT': 0,\n",
       " 'GG': 0,\n",
       " 'GC': 0,\n",
       " 'CA': 0,\n",
       " 'CT': 0,\n",
       " 'CG': 1}"
      ]
     },
     "execution_count": 34,
     "metadata": {},
     "output_type": "execute_result"
    }
   ],
   "source": [
    "conteo_dinucleotidos"
   ]
  },
  {
   "cell_type": "markdown",
   "id": "a44b5e4c",
   "metadata": {},
   "source": [
    "##### ¿Cuántos counts tiene TC?"
   ]
  },
  {
   "cell_type": "code",
   "execution_count": 38,
   "id": "3003eef4",
   "metadata": {},
   "outputs": [
    {
     "data": {
      "text/plain": [
       "0"
      ]
     },
     "execution_count": 38,
     "metadata": {},
     "output_type": "execute_result"
    }
   ],
   "source": [
    "conteo_dinucleotidos['TC']"
   ]
  },
  {
   "cell_type": "markdown",
   "id": "70245f18",
   "metadata": {},
   "source": [
    "##### ¿Puedes imprimir los dinuleótidos que tengan counts igual a 2?"
   ]
  },
  {
   "cell_type": "code",
   "execution_count": 46,
   "id": "b83480e8",
   "metadata": {},
   "outputs": [
    {
     "name": "stdout",
     "output_type": "stream",
     "text": [
      "AA\n",
      "AT\n",
      "AC\n",
      "TG\n"
     ]
    }
   ],
   "source": [
    "for dinucleotido, count in conteo_dinucleotidos.items():\n",
    "    if count == 2:\n",
    "        print (dinucleotido)"
   ]
  }
 ],
 "metadata": {
  "kernelspec": {
   "display_name": "Python 3 (ipykernel)",
   "language": "python",
   "name": "python3"
  },
  "language_info": {
   "codemirror_mode": {
    "name": "ipython",
    "version": 3
   },
   "file_extension": ".py",
   "mimetype": "text/x-python",
   "name": "python",
   "nbconvert_exporter": "python",
   "pygments_lexer": "ipython3",
   "version": "3.12.4"
  }
 },
 "nbformat": 4,
 "nbformat_minor": 5
}
