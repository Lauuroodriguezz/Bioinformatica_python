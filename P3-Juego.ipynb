{
 "cells": [
  {
   "cell_type": "markdown",
   "id": "e87fdfc4",
   "metadata": {},
   "source": [
    "# PRACTICA JUEGO CONDICIONALES BUCLES\n",
    "\n",
    "\n",
    "## JUEGO DE ADIVINANZAS\n",
    "\n",
    "#### Escribe un programa que coja un número entero del 1 al 100, y los jugadores tienen que tratar de adivinar el número.\n",
    "\n",
    "#### Las reglas son las siguientes:\n",
    "\n",
    "1. Si un jugador escoje un número menor que 1 o mayor que 100, el programa dice \"FUERA DE LÍMITES\"\n",
    "2. En el primer turno del jugador, si está en un rango de 10 del número dice \"¡CALIENTE!\". Si está fuera de ese rango dice \"¡FRIO!\"\n",
    "3. En todas las rondas siguientes, si el jugador se acerca más que la vez anterior, dice \"¡MAS CALIENTE!\". Si está más lejos que la anterior vez dice \"¡MAS FRIO!\"\n",
    "4. Cuando el jugador acierte el número, les dirá que han acertado y cuántos intentos les ha llevado\n",
    "\n",
    "\n",
    "\n"
   ]
  },
  {
   "cell_type": "markdown",
   "id": "1ea418c3",
   "metadata": {},
   "source": [
    "##### PISTAS\n",
    "1. Trata obtener un número aleatorio entre el 1 y el 100\n",
    "2. Haz una introducción de tu juego y explica las reglas\n",
    "3. Crea una lista que almacene los intentos. \n",
    "4. Haz un bucle que evalúe un número. Prueba que funcione primero. While podría ir bien\n",
    "5. Modifica ese bucle para que compare nuestro número con el intento. Si se acierta usa break, si no puedes usar continue y tienes que seguir preguntando al jugador por nuevos intentos"
   ]
  },
  {
   "cell_type": "markdown",
   "id": "902fa780-b0db-42e6-8e94-5695f54c42c2",
   "metadata": {},
   "source": [
    "Laura Rodríguez Migoya, María Arroyo y Pablo Cuesta"
   ]
  },
  {
   "cell_type": "code",
   "execution_count": 3,
   "id": "10b3bdec-b2f8-469a-b086-3f2319440a54",
   "metadata": {},
   "outputs": [
    {
     "name": "stdout",
     "output_type": "stream",
     "text": [
      "¡Bienvenido al juego de adivinanzas!\n",
      "Intenta adivinar un número entero entre 1 y 100.\n",
      "Te daremos pistas de 'caliente' o 'frío' para ayudarte.\n",
      "Si estás dentro de 10 números del correcto, diremos '¡CALIENTE!'.\n",
      "Si estás lejos, diremos '¡FRÍO!'.\n",
      "En turnos siguientes, si te acercas más al número, diremos '¡MÁS CALIENTE!'.\n",
      "Si te alejas más, diremos '¡MÁS FRÍO!'.\n",
      "Si tu intento está fuera del rango de 1 a 100, diremos 'FUERA DE LÍMITES'. ¡Buena suerte!\n"
     ]
    },
    {
     "name": "stdin",
     "output_type": "stream",
     "text": [
      "Introduce tu número:  hola\n"
     ]
    },
    {
     "name": "stdout",
     "output_type": "stream",
     "text": [
      "Caracter no válido. Por favor, introduce un número\n"
     ]
    },
    {
     "name": "stdin",
     "output_type": "stream",
     "text": [
      "Introduce tu número:  87,5\n"
     ]
    },
    {
     "name": "stdout",
     "output_type": "stream",
     "text": [
      "Por favor, introduce un número entero dentro del rango del 1 al 100\n"
     ]
    },
    {
     "name": "stdin",
     "output_type": "stream",
     "text": [
      "Introduce tu número:  0\n"
     ]
    },
    {
     "name": "stdout",
     "output_type": "stream",
     "text": [
      "¡FUERA DE LÍMITES! Escoge un número entre 1 y 100\n"
     ]
    },
    {
     "name": "stdin",
     "output_type": "stream",
     "text": [
      "Introduce tu número:  101\n"
     ]
    },
    {
     "name": "stdout",
     "output_type": "stream",
     "text": [
      "¡FUERA DE LÍMITES! Escoge un número entre 1 y 100\n"
     ]
    },
    {
     "name": "stdin",
     "output_type": "stream",
     "text": [
      "Introduce tu número:  45\n"
     ]
    },
    {
     "name": "stdout",
     "output_type": "stream",
     "text": [
      "¡FRÍO!\n"
     ]
    },
    {
     "name": "stdin",
     "output_type": "stream",
     "text": [
      "Introduce tu número:  70\n"
     ]
    },
    {
     "name": "stdout",
     "output_type": "stream",
     "text": [
      "¡MÁS FRÍO!\n"
     ]
    },
    {
     "name": "stdin",
     "output_type": "stream",
     "text": [
      "Introduce tu número:  30\n"
     ]
    },
    {
     "name": "stdout",
     "output_type": "stream",
     "text": [
      "¡MÁS FRÍO!\n"
     ]
    },
    {
     "name": "stdin",
     "output_type": "stream",
     "text": [
      "Introduce tu número:  10\n"
     ]
    },
    {
     "name": "stdout",
     "output_type": "stream",
     "text": [
      "¡MÁS FRÍO!\n"
     ]
    },
    {
     "name": "stdin",
     "output_type": "stream",
     "text": [
      "Introduce tu número:  50\n"
     ]
    },
    {
     "name": "stdout",
     "output_type": "stream",
     "text": [
      "¡MÁS CALIENTE!\n"
     ]
    },
    {
     "name": "stdin",
     "output_type": "stream",
     "text": [
      "Introduce tu número:  55\n"
     ]
    },
    {
     "name": "stdout",
     "output_type": "stream",
     "text": [
      "¡MÁS CALIENTE!\n"
     ]
    },
    {
     "name": "stdin",
     "output_type": "stream",
     "text": [
      "Introduce tu número:  60\n"
     ]
    },
    {
     "name": "stdout",
     "output_type": "stream",
     "text": [
      "¡MÁS FRÍO!\n"
     ]
    },
    {
     "name": "stdin",
     "output_type": "stream",
     "text": [
      "Introduce tu número:  57\n"
     ]
    },
    {
     "name": "stdout",
     "output_type": "stream",
     "text": [
      "¡MÁS CALIENTE!\n"
     ]
    },
    {
     "name": "stdin",
     "output_type": "stream",
     "text": [
      "Introduce tu número:  58\n"
     ]
    },
    {
     "name": "stdout",
     "output_type": "stream",
     "text": [
      "¡MÁS FRÍO!\n"
     ]
    },
    {
     "name": "stdin",
     "output_type": "stream",
     "text": [
      "Introduce tu número:  56\n"
     ]
    },
    {
     "name": "stdout",
     "output_type": "stream",
     "text": [
      "¡FELICIDADES! Has adivinado el número 56 en 10 intentos.\n"
     ]
    }
   ],
   "source": [
    "def juego_de_adivinanzas():\n",
    "    import random\n",
    "    print(\"¡Bienvenido al juego de adivinanzas!\")\n",
    "    print(\"Intenta adivinar un número entero entre 1 y 100.\")\n",
    "    print(\"Te daremos pistas de 'caliente' o 'frío' para ayudarte.\")\n",
    "    print(\"Si estás dentro de 10 números del correcto, diremos '¡CALIENTE!'.\")\n",
    "    print(\"Si estás lejos, diremos '¡FRÍO!'.\")\n",
    "    print(\"En turnos siguientes, si te acercas más al número, diremos '¡MÁS CALIENTE!'.\")\n",
    "    print(\"Si te alejas más, diremos '¡MÁS FRÍO!'.\")\n",
    "    print(\"Si tu intento está fuera del rango de 1 a 100, diremos 'FUERA DE LÍMITES'. ¡Buena suerte!\")\n",
    "    numero_correcto = random.randint(1,100)\n",
    "    numero_correcto\n",
    "    intentos = []\n",
    "    while True:\n",
    "        try:\n",
    "            entrada = input('Introduce tu número: ')\n",
    "            intento = int(entrada)\n",
    "            if intento < 1 or intento > 100:\n",
    "                print('¡FUERA DE LÍMITES! Escoge un número entre 1 y 100')\n",
    "                continue\n",
    "            intentos.append(intento)\n",
    "    \n",
    "            if intento == numero_correcto:\n",
    "                print (f\"¡FELICIDADES! Has adivinado el número {numero_correcto} en {len(intentos)} intentos.\")\n",
    "                break\n",
    "    \n",
    "            if len(intentos) == 1:\n",
    "                if abs(intento - numero_correcto) <= 10:\n",
    "                    print ('¡CALIENTE!')\n",
    "                else:\n",
    "                    print ('¡FRÍO!')\n",
    "    \n",
    "            else: \n",
    "                if len(intentos) > 1:\n",
    "                    if abs(intento - numero_correcto) < abs(intentos[-2] - numero_correcto):\n",
    "                        print ('¡MÁS CALIENTE!')\n",
    "                    else:\n",
    "                        print ('¡MÁS FRÍO!')\n",
    "    \n",
    "        except ValueError:\n",
    "            if \".\" in entrada or \",\" in entrada: \n",
    "                print ('Por favor, introduce un número entero dentro del rango del 1 al 100')\n",
    "            else: \n",
    "                print ('Caracter no válido. Por favor, introduce un número')\n",
    "\n",
    "juego_de_adivinanzas()"
   ]
  }
 ],
 "metadata": {
  "kernelspec": {
   "display_name": "Python 3 (ipykernel)",
   "language": "python",
   "name": "python3"
  },
  "language_info": {
   "codemirror_mode": {
    "name": "ipython",
    "version": 3
   },
   "file_extension": ".py",
   "mimetype": "text/x-python",
   "name": "python",
   "nbconvert_exporter": "python",
   "pygments_lexer": "ipython3",
   "version": "3.12.4"
  }
 },
 "nbformat": 4,
 "nbformat_minor": 5
}
