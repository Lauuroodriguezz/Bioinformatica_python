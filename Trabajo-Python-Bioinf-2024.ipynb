{
 "cells": [
  {
   "cell_type": "markdown",
   "id": "6d0b38a6-0a45-4197-8fd7-d8be71fe6c68",
   "metadata": {},
   "source": [
    "Laura Rodriguez Migoya"
   ]
  },
  {
   "cell_type": "markdown",
   "id": "eaebb484",
   "metadata": {},
   "source": [
    "# TRABAJO DE PYTHON\n",
    "\n",
    "### Este trabajo cuenta el 30% de la nota. \n",
    "\n",
    "### Resuelve los siguientes ejercicios en Python\n",
    "\n",
    "#### Utiliza tantas celdas de código como necesites"
   ]
  },
  {
   "cell_type": "markdown",
   "id": "98d4d480",
   "metadata": {},
   "source": [
    "#### 1.- Carga el archivo *\"archivo.txt\"* en este Jupyter Notebook y guarda su contenido en una lista. (1 pto)"
   ]
  },
  {
   "cell_type": "code",
   "execution_count": 40,
   "id": "f6b21b23",
   "metadata": {},
   "outputs": [
    {
     "data": {
      "text/plain": [
       "['>CP043953.1 Acinetobacter baumannii strain K09-14 chromosome, complete genome\\nATGCTTTGGACAGACTGCTTAACTCGCTTGCGACAAGAGCTCTCTGATAACGTCTTTGCGATGTGGATTCGCCCTTTAGTAGCTGAAGAAGTAGAGGGGATACTACGTCTCTATGCTCCTAATCCTTATTGGACGCGTTATATTCAAGAGAATCATTTAGAGTTAATTTCTATATTGGCTGAACAATTGTCAGAAGGGCGGGTGCGTCAGGTTGAAATCTTGGTAGATTCTCGTCCTGGTAGTATTTTGTCTTCTAGTGAACAGCCTGCAACAACTACAGCAGCTTTACAAACTGCCCCTATACCTCAACCTGCTAAGGTTAAAAGAGAACCGGAACCTGTTGCTAATACTGCAGTTAGTTCTAAGAGTTCAAAAAAGAAACTATTAAATCCACAATTTACTTTTTCACTATTTGTTGAAGGCCGTTCTAACCAAATGGCAGCAGAAACCTGTAGAAAAGTATTAACACAGTTAGGTGCTTCTCAACATAACCCTTTGTTTTTATATGGTCCGACAGGTCTAGGTAAGACTCACTTAATGCAAGCAGTTGGTAATGCCCTACTGCAAGCGAAGCCGAATGCAAGAGTCATGTATATGACTTCAGAAAGTTTTGTACAAGATTTTGTGAGCTCATTACAAAAAGGAAAGGTAGAAGAGTTTAAGAAAAATTGCCGTTCTTTAGACTTGTTATTAGTAGATGATATTCATCTTTTGGCAGGAAAAGAAGCAAGTCTCGTTGAATTCTTCTATACATTTAATGCCTTACTTGATGAATCTAAACAAATTATTTTAACGTCTGATCGATATCCTAAAGAATTAACAGAACTTGATCCTCGATTGGTTTCTCGTTTTTCCTGGGGGCTATCAGTAGGTGTTGAACCACCTGATATTGAAACTCGAATCGAAATTCTGCTTAAAAAAGCTGAAAATAGTGGCGTTGATTTACCTAGAAACTGTGCGTTGTTTATTGCCCAACAAGTCGTAGCGAACGTACGTGAACTTGAGGGCGCACTGAATAAAGTTGTCGCAATTTCACGTTTTAAAGGTGCTCCAATTGACCTGGATGTCGTACGGGAATCTTTAAAAGATGTTTTAGCGATCCGTGCTCGTACAATTAGTGTAGAAAATATCCAGCGTGTAGTGAGTGAATATTTCCGAATTCCATTAAAAGAGCTGGTAGGTCCAAAGCGTACCCGAATTTATGCTCGACCACGTCAGTTGGCGATGGGGCTTGCCCGTGAATTAACGGGGGATAGTTTTCCTGAAATTGGAATGGCTTTTGGTGGGCGTGATCACAGTACAGTGATGCATGCTTGTGAAAAAGTCGTC']"
      ]
     },
     "execution_count": 40,
     "metadata": {},
     "output_type": "execute_result"
    }
   ],
   "source": [
    "with open('archivo.txt', 'r') as file:\n",
    "    contenido = [file.read()]\n",
    "\n",
    "contenido"
   ]
  },
  {
   "cell_type": "markdown",
   "id": "400fa3f1",
   "metadata": {},
   "source": [
    "#### 2.- Muestre el encabezado y la secuencia y guarde cada uno en variables separadas. Elimine el elemento \"\\n\" del encabezado con replace(). ¿Cual es la longitud de la secuencia?. (1 pto)"
   ]
  },
  {
   "cell_type": "code",
   "execution_count": 45,
   "id": "154b42b2",
   "metadata": {},
   "outputs": [],
   "source": [
    "contenido_completo = contenido[0]\n",
    "lineas = contenido_completo.splitlines()\n",
    "encabezado = lineas[0].replace(\"\\n\", \"\")\n",
    "secuencia = \"\".join(lineas[1:])"
   ]
  },
  {
   "cell_type": "code",
   "execution_count": 46,
   "id": "c86b319a-f11c-40b8-a8be-b55a7bdbbeaf",
   "metadata": {},
   "outputs": [
    {
     "name": "stdout",
     "output_type": "stream",
     "text": [
      "Encabezado: >CP043953.1 Acinetobacter baumannii strain K09-14 chromosome, complete genome\n"
     ]
    }
   ],
   "source": [
    "print(\"Encabezado:\", encabezado)"
   ]
  },
  {
   "cell_type": "code",
   "execution_count": 47,
   "id": "e2b2ea01-227f-434a-b90c-fa1f614f6da1",
   "metadata": {},
   "outputs": [
    {
     "name": "stdout",
     "output_type": "stream",
     "text": [
      "Secuencia: ATGCTTTGGACAGACTGCTTAACTCGCTTGCGACAAGAGCTCTCTGATAACGTCTTTGCGATGTGGATTCGCCCTTTAGTAGCTGAAGAAGTAGAGGGGATACTACGTCTCTATGCTCCTAATCCTTATTGGACGCGTTATATTCAAGAGAATCATTTAGAGTTAATTTCTATATTGGCTGAACAATTGTCAGAAGGGCGGGTGCGTCAGGTTGAAATCTTGGTAGATTCTCGTCCTGGTAGTATTTTGTCTTCTAGTGAACAGCCTGCAACAACTACAGCAGCTTTACAAACTGCCCCTATACCTCAACCTGCTAAGGTTAAAAGAGAACCGGAACCTGTTGCTAATACTGCAGTTAGTTCTAAGAGTTCAAAAAAGAAACTATTAAATCCACAATTTACTTTTTCACTATTTGTTGAAGGCCGTTCTAACCAAATGGCAGCAGAAACCTGTAGAAAAGTATTAACACAGTTAGGTGCTTCTCAACATAACCCTTTGTTTTTATATGGTCCGACAGGTCTAGGTAAGACTCACTTAATGCAAGCAGTTGGTAATGCCCTACTGCAAGCGAAGCCGAATGCAAGAGTCATGTATATGACTTCAGAAAGTTTTGTACAAGATTTTGTGAGCTCATTACAAAAAGGAAAGGTAGAAGAGTTTAAGAAAAATTGCCGTTCTTTAGACTTGTTATTAGTAGATGATATTCATCTTTTGGCAGGAAAAGAAGCAAGTCTCGTTGAATTCTTCTATACATTTAATGCCTTACTTGATGAATCTAAACAAATTATTTTAACGTCTGATCGATATCCTAAAGAATTAACAGAACTTGATCCTCGATTGGTTTCTCGTTTTTCCTGGGGGCTATCAGTAGGTGTTGAACCACCTGATATTGAAACTCGAATCGAAATTCTGCTTAAAAAAGCTGAAAATAGTGGCGTTGATTTACCTAGAAACTGTGCGTTGTTTATTGCCCAACAAGTCGTAGCGAACGTACGTGAACTTGAGGGCGCACTGAATAAAGTTGTCGCAATTTCACGTTTTAAAGGTGCTCCAATTGACCTGGATGTCGTACGGGAATCTTTAAAAGATGTTTTAGCGATCCGTGCTCGTACAATTAGTGTAGAAAATATCCAGCGTGTAGTGAGTGAATATTTCCGAATTCCATTAAAAGAGCTGGTAGGTCCAAAGCGTACCCGAATTTATGCTCGACCACGTCAGTTGGCGATGGGGCTTGCCCGTGAATTAACGGGGGATAGTTTTCCTGAAATTGGAATGGCTTTTGGTGGGCGTGATCACAGTACAGTGATGCATGCTTGTGAAAAAGTCGTC\n"
     ]
    }
   ],
   "source": [
    "print(\"Secuencia:\", secuencia)"
   ]
  },
  {
   "cell_type": "code",
   "execution_count": 48,
   "id": "ea9dcff7-d1b0-48f0-9e75-743dc7871cac",
   "metadata": {},
   "outputs": [
    {
     "name": "stdout",
     "output_type": "stream",
     "text": [
      "Longitud de la secuencia: 1329\n"
     ]
    }
   ],
   "source": [
    "longitud_secuencia = len(secuencia)\n",
    "print(\"Longitud de la secuencia:\", longitud_secuencia)"
   ]
  },
  {
   "cell_type": "markdown",
   "id": "36b8c00d",
   "metadata": {},
   "source": [
    "#### 3.- Para el encabezado, extrae empleando expresiones regulares el identificador. (1pto)"
   ]
  },
  {
   "cell_type": "code",
   "execution_count": 49,
   "id": "d845bb81",
   "metadata": {},
   "outputs": [],
   "source": [
    "import re"
   ]
  },
  {
   "cell_type": "code",
   "execution_count": 50,
   "id": "54a63a51-a408-46d0-b192-7026ccea1630",
   "metadata": {},
   "outputs": [],
   "source": [
    "match = re.search(r'>\\S+', encabezado)"
   ]
  },
  {
   "cell_type": "code",
   "execution_count": 51,
   "id": "6a03e424-b942-4d64-becd-c5a7f23631ef",
   "metadata": {},
   "outputs": [
    {
     "name": "stdout",
     "output_type": "stream",
     "text": [
      "Identificador: CP043953.1\n"
     ]
    }
   ],
   "source": [
    "if match:\n",
    "    identificador = match.group()[1:]\n",
    "else:\n",
    "    identificador = None\n",
    "\n",
    "print(\"Identificador:\", identificador)"
   ]
  },
  {
   "cell_type": "markdown",
   "id": "f38fdda0",
   "metadata": {},
   "source": [
    "#### 4.- Para la secuencia, haz un algoritmo que vaya sumando el numero de adeninas (A) y timinas (T) segun vaya iterando por la secuencia. El numero total de adeninas y timinas deberia guardarse en una misma variable. (1 pto)"
   ]
  },
  {
   "cell_type": "code",
   "execution_count": 52,
   "id": "2914b1f2",
   "metadata": {},
   "outputs": [],
   "source": [
    "conteo_AT = 0\n",
    "for nucleotido in secuencia:\n",
    "    if nucleotido == 'A' or nucleotido == 'T':\n",
    "        conteo_AT += 1"
   ]
  },
  {
   "cell_type": "code",
   "execution_count": 53,
   "id": "7b0d800d-b87a-43f6-8605-390ed026b6f4",
   "metadata": {},
   "outputs": [
    {
     "name": "stdout",
     "output_type": "stream",
     "text": [
      "Número total de adeninas y timinas: 793\n"
     ]
    }
   ],
   "source": [
    "print(\"Número total de adeninas y timinas:\", conteo_AT)"
   ]
  },
  {
   "cell_type": "markdown",
   "id": "98096e73",
   "metadata": {},
   "source": [
    "#### 5.- Escribe una funcion que calcule el porcentaje de un nucleotido de una secuencia y que examine la entrada para comprobar que se ha introducido un nucleotido de los cuatro tipos que hay (A, T, G o C). Devuelve el resultado con un decimal. Por ultimo comprueba que tu codigo funciona con las siguientes *assertions*. (1 pto)"
   ]
  },
  {
   "cell_type": "code",
   "execution_count": 54,
   "id": "76d24063-9473-4190-b0a6-f7443735668e",
   "metadata": {},
   "outputs": [],
   "source": [
    "def calculo_porcentaje(nucleotido, secuencia):\n",
    "    if nucleotido not in [\"A\", \"T\", \"G\", \"C\"]:\n",
    "        raise ValueError(\"El nucleótido debe ser uno de: 'A', 'T', 'G' o 'C'\")\n",
    "    conteo = secuencia.count(nucleotido)\n",
    "    porcentaje = (conteo / len(secuencia)) * 100\n",
    "    return round(porcentaje, 1)"
   ]
  },
  {
   "cell_type": "code",
   "execution_count": 55,
   "id": "6d6822c8-4d36-4596-b122-9f5a768c6880",
   "metadata": {},
   "outputs": [
    {
     "data": {
      "text/plain": [
       "29.2"
      ]
     },
     "execution_count": 55,
     "metadata": {},
     "output_type": "execute_result"
    }
   ],
   "source": [
    "porcentaje_A = calculo_porcentaje(\"A\", secuencia)\n",
    "porcentaje_A"
   ]
  },
  {
   "cell_type": "code",
   "execution_count": 56,
   "id": "4c89889a-4d36-416c-ba38-3f8c1eb9bdec",
   "metadata": {},
   "outputs": [
    {
     "data": {
      "text/plain": [
       "30.5"
      ]
     },
     "execution_count": 56,
     "metadata": {},
     "output_type": "execute_result"
    }
   ],
   "source": [
    "porcentaje_T = calculo_porcentaje(\"T\", secuencia)\n",
    "porcentaje_T"
   ]
  },
  {
   "cell_type": "code",
   "execution_count": 57,
   "id": "f69dbf55-7c8f-4d7a-a6b6-d6b4c4b3d6b3",
   "metadata": {},
   "outputs": [
    {
     "data": {
      "text/plain": [
       "22.0"
      ]
     },
     "execution_count": 57,
     "metadata": {},
     "output_type": "execute_result"
    }
   ],
   "source": [
    "porcentaje_G = calculo_porcentaje(\"G\", secuencia)\n",
    "porcentaje_G"
   ]
  },
  {
   "cell_type": "code",
   "execution_count": 58,
   "id": "b9782135-fc14-42bf-b6b8-e091ab585027",
   "metadata": {},
   "outputs": [
    {
     "data": {
      "text/plain": [
       "18.3"
      ]
     },
     "execution_count": 58,
     "metadata": {},
     "output_type": "execute_result"
    }
   ],
   "source": [
    "porcentaje_C = calculo_porcentaje(\"C\", secuencia)\n",
    "porcentaje_C"
   ]
  },
  {
   "cell_type": "code",
   "execution_count": 59,
   "id": "df4b86c4",
   "metadata": {},
   "outputs": [
    {
     "name": "stdout",
     "output_type": "stream",
     "text": [
      "Todas las assertions pasaron correctamente.\n"
     ]
    }
   ],
   "source": [
    "assert porcentaje_A == 29.2, f\"Error: {porcentaje_A} no es igual a 29.2\"\n",
    "assert porcentaje_T == 30.5, f\"Error: {porcentaje_T} no es igual a 30.5\"\n",
    "assert porcentaje_G == 22.0, f\"Error: {porcentaje_G} no es igual a 22.0\"\n",
    "assert porcentaje_C == 18.3, f\"Error: {porcentaje_C} no es igual a 18.3\"\n",
    "\n",
    "print(\"Todas las assertions pasaron correctamente.\")"
   ]
  },
  {
   "cell_type": "markdown",
   "id": "a28888dd",
   "metadata": {},
   "source": [
    "#### 6.- Devuelve la secuencia de ARN que surgiría a partir de la siguiente secuencia. Recuerda que la secuencia de ARN resultante tiene que ser complementaria a la de ADN y además, hay que cambiar un nucleótido. (1 pto)"
   ]
  },
  {
   "cell_type": "code",
   "execution_count": 60,
   "id": "b27feabb",
   "metadata": {},
   "outputs": [],
   "source": [
    "def convertir_a_arn(secuencia_adn):\n",
    "    complementaria = \"\"\n",
    "    for nucleotido in secuencia_adn:\n",
    "        if nucleotido == 'A':\n",
    "            complementaria += 'T'\n",
    "        elif nucleotido == 'T':\n",
    "            complementaria += 'A'\n",
    "        elif nucleotido == 'C':\n",
    "            complementaria += 'G'\n",
    "        elif nucleotido == 'G':\n",
    "            complementaria += 'C'\n",
    "    secuencia_arn = complementaria.replace('T', 'U')\n",
    "    return secuencia_arn"
   ]
  },
  {
   "cell_type": "code",
   "execution_count": 61,
   "id": "3cbcac8b-e3eb-47b9-9fd4-ad876488fd5a",
   "metadata": {},
   "outputs": [
    {
     "name": "stdout",
     "output_type": "stream",
     "text": [
      "Secuencia de ARN: UACGAAACCUGUCUGACGAAUUGAGCGAACGCUGUUCUCGAGAGACUAUUGCAGAAACGCUACACCUAAGCGGGAAAUCAUCGACUUCUUCAUCUCCCCUAUGAUGCAGAGAUACGAGGAUUAGGAAUAACCUGCGCAAUAUAAGUUCUCUUAGUAAAUCUCAAUUAAAGAUAUAACCGACUUGUUAACAGUCUUCCCGCCCACGCAGUCCAACUUUAGAACCAUCUAAGAGCAGGACCAUCAUAAAACAGAAGAUCACUUGUCGGACGUUGUUGAUGUCGUCGAAAUGUUUGACGGGGAUAUGGAGUUGGACGAUUCCAAUUUUCUCUUGGCCUUGGACAACGAUUAUGACGUCAAUCAAGAUUCUCAAGUUUUUUCUUUGAUAAUUUAGGUGUUAAAUGAAAAAGUGAUAAACAACUUCCGGCAAGAUUGGUUUACCGUCGUCUUUGGACAUCUUUUCAUAAUUGUGUCAAUCCACGAAGAGUUGUAUUGGGAAACAAAAAUAUACCAGGCUGUCCAGAUCCAUUCUGAGUGAAUUACGUUCGUCAACCAUUACGGGAUGACGUUCGCUUCGGCUUACGUUCUCAGUACAUAUACUGAAGUCUUUCAAAACAUGUUCUAAAACACUCGAGUAAUGUUUUUCCUUUCCAUCUUCUCAAAUUCUUUUUAACGGCAAGAAAUCUGAACAAUAAUCAUCUACUAUAAGUAGAAAACCGUCCUUUUCUUCGUUCAGAGCAACUUAAGAAGAUAUGUAAAUUACGGAAUGAACUACUUAGAUUUGUUUAAUAAAAUUGCAGACUAGCUAUAGGAUUUCUUAAUUGUCUUGAACUAGGAGCUAACCAAAGAGCAAAAAGGACCCCCGAUAGUCAUCCACAACUUGGUGGACUAUAACUUUGAGCUUAGCUUUAAGACGAAUUUUUUCGACUUUUAUCACCGCAACUAAAUGGAUCUUUGACACGCAACAAAUAACGGGUUGUUCAGCAUCGCUUGCAUGCACUUGAACUCCCGCGUGACUUAUUUCAACAGCGUUAAAGUGCAAAAUUUCCACGAGGUUAACUGGACCUACAGCAUGCCCUUAGAAAUUUUCUACAAAAUCGCUAGGCACGAGCAUGUUAAUCACAUCUUUUAUAGGUCGCACAUCACUCACUUAUAAAGGCUUAAGGUAAUUUUCUCGACCAUCCAGGUUUCGCAUGGGCUUAAAUACGAGCUGGUGCAGUCAACCGCUACCCCGAACGGGCACUUAAUUGCCCCCUAUCAAAAGGACUUUAACCUUACCGAAAACCACCCGCACUAGUGUCAUGUCACUACGUACGAACACUUUUUCAGCAG\n"
     ]
    }
   ],
   "source": [
    "secuencia_arn = convertir_a_arn(secuencia)\n",
    "print(\"Secuencia de ARN:\", secuencia_arn) "
   ]
  },
  {
   "cell_type": "markdown",
   "id": "9f94d5dd",
   "metadata": {},
   "source": [
    "#### 7.- Realiza una función que realice una digestión con las siguientes enzimas de restricción en nuestra secuencia. La función tiene que devolver la siguiente información: (2 pto)\n",
    "1. Enzimas que tienen sitios de corte en la secuencia y posición (o posiciones de corte)\n",
    "2. Enzimas que no tienen sitios de corte (si las hay)\n",
    "3. Resultado de la digestión: los fragmentos resultantes de nuestra secuencia\n",
    "4. Indicar número y tamaño de cada fragmento"
   ]
  },
  {
   "cell_type": "code",
   "execution_count": 19,
   "id": "1cab833c",
   "metadata": {},
   "outputs": [],
   "source": [
    "enzR = {\n",
    "    'HindIII' : 'A*AGCTT',\n",
    "    'BamHI' : 'G*GATCC',\n",
    "    'AluI' : 'AG*CT',\n",
    "    'Sau3AI' : '*GATC',\n",
    "    'EcoRI' : 'G*AATTC'\n",
    "}"
   ]
  },
  {
   "cell_type": "code",
   "execution_count": 62,
   "id": "43766acb-7fff-4f1c-9f40-63ea92bb3ccc",
   "metadata": {},
   "outputs": [],
   "source": [
    "def digerir_secuencia(secuencia, enzR):\n",
    "    enzimas_con_corte = {}\n",
    "    enzimas_sin_corte = []\n",
    "    fragmentos = []\n",
    "    for enzima, sitio in enzR.items():\n",
    "        sitio_patron = sitio.replace(\"*\", \"\")\n",
    "        posiciones = [m.start() for m in re.finditer(sitio_patron, secuencia)]\n",
    "        if posiciones:\n",
    "            corte_offset = sitio.index('*')\n",
    "            posiciones_corte = [pos + corte_offset for pos in posiciones]\n",
    "            enzimas_con_corte[enzima] = posiciones_corte\n",
    "        else:\n",
    "            enzimas_sin_corte.append(enzima)\n",
    "    posiciones_corte_todas = sorted(set([pos for cortes in enzimas_con_corte.values() for pos in cortes]))\n",
    "    inicio = 0\n",
    "    for pos in posiciones_corte_todas:\n",
    "        fragmentos.append(secuencia[inicio:pos])\n",
    "        inicio = pos\n",
    "    fragmentos.append(secuencia[inicio:]) \n",
    "    print(\"Enzimas con sitios de corte y posiciones:\")\n",
    "    for enzima, posiciones in enzimas_con_corte.items():\n",
    "        print(f\"{enzima}: {posiciones}\")\n",
    "    \n",
    "    if enzimas_sin_corte:\n",
    "        print(\"\\nEnzimas sin sitios de corte:\")\n",
    "        print(\", \".join(enzimas_sin_corte))\n",
    "    \n",
    "    print(\"\\nResultado de la digestión (fragmentos):\")\n",
    "    for i, fragmento in enumerate(fragmentos):\n",
    "        print(f\"Fragmento {i+1}: Tamaño {len(fragmento)}\")"
   ]
  },
  {
   "cell_type": "code",
   "execution_count": 63,
   "id": "da454abd-a99f-4f62-9fe0-34fc64827af5",
   "metadata": {},
   "outputs": [
    {
     "name": "stdout",
     "output_type": "stream",
     "text": [
      "Enzimas con sitios de corte y posiciones:\n",
      "AluI: [39, 82, 283, 629, 922, 1173]\n",
      "Sau3AI: [798, 828, 1097, 1290]\n",
      "EcoRI: [739, 1157]\n",
      "\n",
      "Enzimas sin sitios de corte:\n",
      "HindIII, BamHI\n",
      "\n",
      "Resultado de la digestión (fragmentos):\n",
      "Fragmento 1: Tamaño 39\n",
      "Fragmento 2: Tamaño 43\n",
      "Fragmento 3: Tamaño 201\n",
      "Fragmento 4: Tamaño 346\n",
      "Fragmento 5: Tamaño 110\n",
      "Fragmento 6: Tamaño 59\n",
      "Fragmento 7: Tamaño 30\n",
      "Fragmento 8: Tamaño 94\n",
      "Fragmento 9: Tamaño 175\n",
      "Fragmento 10: Tamaño 60\n",
      "Fragmento 11: Tamaño 16\n",
      "Fragmento 12: Tamaño 117\n",
      "Fragmento 13: Tamaño 39\n"
     ]
    }
   ],
   "source": [
    "digerir_secuencia(secuencia, enzR)"
   ]
  },
  {
   "cell_type": "markdown",
   "id": "cae3c937",
   "metadata": {},
   "source": [
    "#### 8.- Realiza una función que mediante la introducción de una secuencia de ADN devuelva lo siguiente: (2pto)\n",
    "1. La secuencia traducida de proteína\n",
    "2. La longitud de la secuencia de ADN original y la longitud de la secuencia de proteínas final\n",
    "3. El porcentaje de aminoácidos aromáticos (en conjunto y por separado)\n"
   ]
  },
  {
   "cell_type": "code",
   "execution_count": 64,
   "id": "1c43d765",
   "metadata": {},
   "outputs": [],
   "source": [
    "codones_arn = {\n",
    "    'AUG':'M', 'UUU':'F', 'UUC':'F', 'UUA':'L', 'UUG':'L',\n",
    "    'UCU':'S', 'UCC':'S', 'UCA':'S', 'UCG':'S',\n",
    "    'UAU':'Y', 'UAC':'Y', 'UGU':'C', 'UGC':'C', 'UGG':'W',\n",
    "    'CUU':'L', 'CUC':'L', 'CUA':'L', 'CUG':'L',\n",
    "    'AUU':'I', 'AUC':'I', 'AUA':'I', 'AUG':'M',\n",
    "    'GUU':'V', 'GUC':'V', 'GUA':'V', 'GUG':'V',\n",
    "    'UAA':'*', 'UAG':'*', 'UGA':'*',\n",
    "    'CCU':'P', 'CCC':'P', 'CCA':'P', 'CCG':'P',\n",
    "    'ACU':'T', 'ACC':'T', 'ACA':'T', 'ACG':'T',\n",
    "    'GCU':'A', 'GCC':'A', 'GCA':'A', 'GCG':'A',\n",
    "    'UAU':'Y', 'UAC':'Y', 'CAU':'H', 'CAC':'H',\n",
    "    'CAA':'Q', 'CAG':'Q', 'AAU':'N', 'AAC':'N',\n",
    "    'AAA':'K', 'AAG':'K', 'GAU':'D', 'GAC':'D',\n",
    "    'GAA':'E', 'GAG':'E', 'UGU':'C', 'UGC':'C',\n",
    "    'GGU':'G', 'GGC':'G', 'GGA':'G', 'GGG':'G'\n",
    "}"
   ]
  },
  {
   "cell_type": "code",
   "execution_count": 65,
   "id": "03c0ba90-893e-4cfe-a2d2-8b3996bbff03",
   "metadata": {},
   "outputs": [],
   "source": [
    "aromaticos = {'F', 'Y', 'W'}"
   ]
  },
  {
   "cell_type": "code",
   "execution_count": 66,
   "id": "3e517fed-cf1a-4d25-94ef-96a4e1a28ac7",
   "metadata": {},
   "outputs": [],
   "source": [
    "def analizar_secuencia_adn(secuencia_adn):\n",
    "    complementaria = ''.join({'A': 'T', 'T': 'A', 'C': 'G', 'G': 'C'}[base] for base in secuencia_adn)\n",
    "\n",
    "    secuencia_arn = complementaria.replace('T', 'U')\n",
    "    \n",
    "    proteina_mas_larga = \"\"\n",
    "    for inicio in range(len(secuencia_arn)):\n",
    "        if secuencia_arn[inicio:inicio+3] == \"AUG\": \n",
    "            proteina_actual = \"\"\n",
    "            for i in range(inicio, len(secuencia_arn) - 2, 3):\n",
    "                codon = secuencia_arn[i:i+3]\n",
    "                if codon in codones_arn:\n",
    "                    aminoacido = codones_arn[codon]\n",
    "                    if aminoacido == '*':  \n",
    "                        break\n",
    "                    proteina_actual += aminoacido\n",
    "            if len(proteina_actual) > len(proteina_mas_larga):\n",
    "                proteina_mas_larga = proteina_actual\n",
    "\n",
    "    longitud_adn = len(secuencia_adn)\n",
    "    longitud_proteina = len(proteina_mas_larga)\n",
    "    conteo_aromaticos = sum([proteina_mas_larga.count(aa) for aa in aromaticos])\n",
    "    porcentaje_aromaticos = (conteo_aromaticos / longitud_proteina) * 100 if longitud_proteina > 0 else 0\n",
    "\n",
    "    porcentaje_fenilalanina = (proteina_mas_larga.count('F') / longitud_proteina) * 100 if longitud_proteina > 0 else 0\n",
    "    porcentaje_tirosina = (proteina_mas_larga.count('Y') / longitud_proteina) * 100 if longitud_proteina > 0 else 0\n",
    "    porcentaje_triptofano = (proteina_mas_larga.count('W') / longitud_proteina) * 100 if longitud_proteina > 0 else 0\n",
    "\n",
    "    print(\"Secuencia traducida de proteína (más larga):\", proteina_mas_larga)\n",
    "    print(\"Longitud de la secuencia de ADN:\", longitud_adn)\n",
    "    print(\"Longitud de la secuencia de proteínas final:\", longitud_proteina)\n",
    "    print(f\"Porcentaje de aminoácidos aromáticos (total): {porcentaje_aromaticos:.1f}%\")\n",
    "    print(f\"Porcentaje de Fenilalanina (F): {porcentaje_fenilalanina:.1f}%\")\n",
    "    print(f\"Porcentaje de Tirosina (Y): {porcentaje_tirosina:.1f}%\")\n",
    "    print(f\"Porcentaje de Triptófano (W): {porcentaje_triptofano:.1f}%\")\n"
   ]
  },
  {
   "cell_type": "code",
   "execution_count": 67,
   "id": "d151d924-6647-4734-a2de-8b852b2e3e6f",
   "metadata": {},
   "outputs": [],
   "source": [
    "secuencia = \"ATGCTTTGGACAGACTGCTTAACTCGCTTGCGACAAGAGCTCTCTGATAACGTCTTTGCGATGTGGATTCGCCCTTTAGTAGCTGAAGAAGTAGAGGGGATACTACGTCTCTATGCTCCTAATCCTTATTGGACGCGTTATATTCAAGAGAATCATTTAGAGTTAATTTCTATATTGGCTGAACAATTGTCAGAAGGGCGGGTGCGTCAGGTTGAAATCTTGGTAGATTCTCGTCCTGGTAGTATTTTGTCTTCTAGTGAACAGCCTGCAACAACTACAGCAGCTTTACAAACTGCCCCTATACCTCAACCTGCTAAGGTTAAAAGAGAACCGGAACCTGTTGCTAATACTGCAGTTAGTTCTAAGAGTTCAAAAAAGAAACTATTAAATCCACAATTTACTTTTTCACTATTTGTTGAAGGCCGTTCTAACCAAATGGCAGCAGAAACCTGTAGAAAAGTATTAACACAGTTAGGTGCTTCTCAACATAACCCTTTGTTTTTATATGGTCCGACAGGTCTAGGTAAGACTCACTTAATGCAAGCAGTTGGTAATGCCCTACTGCAAGCGAAGCCGAATGCAAGAGTCATGTATATGACTTCAGAAAGTTTTGTACAAGATTTTGTGAGCTCATTACAAAAAGGAAAGGTAGAAGAGTTTAAGAAAAATTGCCGTTCTTTAGACTTGTTATTAGTAGATGATATTCATCTTTTGGCAGGAAAAGAAGCAAGTCTCGTTGAATTCTTCTATACATTTAATGCCTTACTTGATGAATCTAAACAAATTATTTTAACGTCTGATCGATATCCTAAAGAATTAACAGAACTTGATCCTCGATTGGTTTCTCGTTTTTCCTGGGGGCTATCAGTAGGTGTTGAACCACCTGATATTGAAACTCGAATCGAAATTCTGCTTAAAAAAGCTGAAAATAGTGGCGTTGATTTACCTAGAAACTGTGCGTTGTTTATTGCCCAACAAGTCGTAGCGAACGTACGTGAACTTGAGGGCGCACTGAATAAAGTTGTCGCAATTTCACGTTTTAAAGGTGCTCCAATTGACCTGGATGTCGTACGGGAATCTTTAAAAGATGTTTTAGCGATCCGTGCTCGTACAATTAGTGTAGAAAATATCCAGCGTGTAGTGAGTGAATATTTCCGAATTCCATTAAAAGAGCTGGTAGGTCCAAAGCGTACCCGAATTTATGCTCGACCACGTCAGTTGGCGATGGGGCTTGCCCGTGAATTAACGGGGGATAGTTTTCCTGAAATTGGAATGGCTTTTGGTGGGCGTGATCACAGTACAGTGATGCATGCTTGTGAAAAAGTCGTC\""
   ]
  },
  {
   "cell_type": "code",
   "execution_count": 68,
   "id": "430d783c-e4ea-4c58-84eb-82a2fe07eff8",
   "metadata": {},
   "outputs": [
    {
     "name": "stdout",
     "output_type": "stream",
     "text": [
      "Secuencia traducida de proteína (más larga): MHLNSVTYFNVKVQNFHEVNWTYMPLEIFYKIAHEHVNHIFYSHITHL\n",
      "Longitud de la secuencia de ADN: 1329\n",
      "Longitud de la secuencia de proteínas final: 48\n",
      "Porcentaje de aminoácidos aromáticos (total): 18.8%\n",
      "Porcentaje de Fenilalanina (F): 8.3%\n",
      "Porcentaje de Tirosina (Y): 8.3%\n",
      "Porcentaje de Triptófano (W): 2.1%\n"
     ]
    }
   ],
   "source": [
    "analizar_secuencia_adn(secuencia)"
   ]
  }
 ],
 "metadata": {
  "kernelspec": {
   "display_name": "Python 3 (ipykernel)",
   "language": "python",
   "name": "python3"
  },
  "language_info": {
   "codemirror_mode": {
    "name": "ipython",
    "version": 3
   },
   "file_extension": ".py",
   "mimetype": "text/x-python",
   "name": "python",
   "nbconvert_exporter": "python",
   "pygments_lexer": "ipython3",
   "version": "3.12.4"
  }
 },
 "nbformat": 4,
 "nbformat_minor": 5
}
